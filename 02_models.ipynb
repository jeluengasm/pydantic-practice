{
 "cells": [
  {
   "cell_type": "markdown",
   "metadata": {},
   "source": [
    "## Import libraries"
   ]
  },
  {
   "attachments": {},
   "cell_type": "markdown",
   "metadata": {},
   "source": [
    "Pydantic guarantees the types and constraints of the output model, not the input data.  If you're unsure what this means or how it might affect your usage you should read the section about [Data Conversion](https://docs.pydantic.dev/usage/models/#data-conversion) below. Although validation is not the main purpose of pydantic, you can use this library for custom [validation](https://docs.pydantic.dev/usage/validators/)."
   ]
  },
  {
   "cell_type": "code",
   "execution_count": 3,
   "metadata": {},
   "outputs": [],
   "source": [
    "from pydantic import BaseModel\n",
    "\n",
    "class User(BaseModel):\n",
    "    id: int\n",
    "    name = 'Jane Doe'"
   ]
  },
  {
   "cell_type": "code",
   "execution_count": 4,
   "metadata": {},
   "outputs": [
    {
     "ename": "ValidationError",
     "evalue": "1 validation error for User\nid\n  value is not a valid integer (type=type_error.integer)",
     "output_type": "error",
     "traceback": [
      "\u001b[0;31m---------------------------------------------------------------------------\u001b[0m",
      "\u001b[0;31mValidationError\u001b[0m                           Traceback (most recent call last)",
      "Cell \u001b[0;32mIn[4], line 2\u001b[0m\n\u001b[1;32m      1\u001b[0m user \u001b[39m=\u001b[39m User(\u001b[39mid\u001b[39m\u001b[39m=\u001b[39m\u001b[39m'\u001b[39m\u001b[39m123\u001b[39m\u001b[39m'\u001b[39m)\n\u001b[0;32m----> 2\u001b[0m user_x \u001b[39m=\u001b[39m User(\u001b[39mid\u001b[39;49m\u001b[39m=\u001b[39;49m\u001b[39m'\u001b[39;49m\u001b[39m123.45\u001b[39;49m\u001b[39m'\u001b[39;49m)\n",
      "File \u001b[0;32m~/Documents/pydantic-practice/venv/lib/python3.10/site-packages/pydantic/main.py:342\u001b[0m, in \u001b[0;36mpydantic.main.BaseModel.__init__\u001b[0;34m()\u001b[0m\n",
      "\u001b[0;31mValidationError\u001b[0m: 1 validation error for User\nid\n  value is not a valid integer (type=type_error.integer)"
     ]
    }
   ],
   "source": [
    "user = User(id='123')\n",
    "user_x = User(id='123.45')"
   ]
  },
  {
   "cell_type": "code",
   "execution_count": 5,
   "metadata": {},
   "outputs": [
    {
     "ename": "NameError",
     "evalue": "name 'user_x' is not defined",
     "output_type": "error",
     "traceback": [
      "\u001b[0;31m---------------------------------------------------------------------------\u001b[0m",
      "\u001b[0;31mNameError\u001b[0m                                 Traceback (most recent call last)",
      "Cell \u001b[0;32mIn[5], line 2\u001b[0m\n\u001b[1;32m      1\u001b[0m \u001b[39massert\u001b[39;00m user\u001b[39m.\u001b[39mid \u001b[39m==\u001b[39m \u001b[39m123\u001b[39m\n\u001b[0;32m----> 2\u001b[0m \u001b[39massert\u001b[39;00m user_x\u001b[39m.\u001b[39mid \u001b[39m==\u001b[39m \u001b[39m123\u001b[39m\n\u001b[1;32m      3\u001b[0m \u001b[39massert\u001b[39;00m \u001b[39misinstance\u001b[39m(user_x\u001b[39m.\u001b[39mid, \u001b[39mint\u001b[39m)  \u001b[39m# Note that 123.45 was casted to an int and its value is 123\u001b[39;00m\n",
      "\u001b[0;31mNameError\u001b[0m: name 'user_x' is not defined"
     ]
    }
   ],
   "source": [
    "assert user.id == 123\n",
    "assert user_x.id == 123\n",
    "assert isinstance(user_x.id, int)  # Note that 123.45 was casted to an int and its value is 123"
   ]
  },
  {
   "cell_type": "code",
   "execution_count": 6,
   "metadata": {},
   "outputs": [],
   "source": [
    "assert user.name == 'Jane Doe'"
   ]
  },
  {
   "cell_type": "code",
   "execution_count": 7,
   "metadata": {},
   "outputs": [],
   "source": [
    "assert user.__fields_set__ == {'id'}"
   ]
  },
  {
   "cell_type": "code",
   "execution_count": 9,
   "metadata": {},
   "outputs": [],
   "source": [
    "assert user.dict() == dict(user) == {'id': 123, 'name': 'Jane Doe'}"
   ]
  },
  {
   "cell_type": "code",
   "execution_count": 10,
   "metadata": {},
   "outputs": [],
   "source": [
    "user.id = 321\n",
    "assert user.id == 321"
   ]
  },
  {
   "attachments": {},
   "cell_type": "markdown",
   "metadata": {},
   "source": [
    "## Model properties"
   ]
  },
  {
   "attachments": {},
   "cell_type": "markdown",
   "metadata": {},
   "source": [
    "\n",
    "The example above only shows the tip of the iceberg of what models can do. Models possess the following methods and attributes:\n",
    "\n",
    "**dict()** : returns a dictionary of the model's fields and values; cf. exporting models\n",
    "\n",
    "\n",
    "**json()** : returns a JSON string representation dict(); cf. exporting models\n",
    "\n",
    "\n",
    "**copy()** : returns a copy (by default, shallow copy) of the model; cf. exporting models\n",
    "\n",
    "\n",
    "**parse_obj()** : a utility for loading any object into a model with error handling if the object is not a dictionary; cf. helper functions\n",
    "\n",
    "\n",
    "**parse_raw()** : a utility for loading strings of numerous formats; cf. helper functions\n",
    "\n",
    "\n",
    "**parse_file()** : like parse_raw() but for file paths; cf. helper functions\n",
    "\n",
    "\n",
    "**from_orm()** : loads data into a model from an arbitrary class; cf. ORM mode\n",
    "\n",
    "\n",
    "**schema()** : returns a dictionary representing the model as JSON Schema; cf. schema\n",
    "\n",
    "\n",
    "**schema_json()** : returns a JSON string representation of schema(); cf. schema\n",
    "\n",
    "\n",
    "**construct()** : a class method for creating models without running validation; cf. Creating models without validation\n",
    "\n",
    "\n",
    "__fields_set__ : Set of names of fields which were set when the model instance was initialised\n",
    "\n",
    "\n",
    "__fields__ : a dictionary of the model's fields\n",
    "\n",
    "\n",
    "__config__ : the configuration class for the model, cf. model config"
   ]
  },
  {
   "attachments": {},
   "cell_type": "markdown",
   "metadata": {},
   "source": [
    "## Recursive Models\n",
    "\n",
    "More complex hierarchical data structures can be defined using models themselves as types in annotations."
   ]
  },
  {
   "cell_type": "code",
   "execution_count": 11,
   "metadata": {},
   "outputs": [],
   "source": [
    "from pydantic import BaseModel\n",
    "\n",
    "\n",
    "class Foo(BaseModel):\n",
    "    count: int\n",
    "    size: float | None = None\n",
    "\n",
    "\n",
    "class Bar(BaseModel):\n",
    "    apple = 'x'\n",
    "    banana = 'y'\n",
    "\n",
    "\n",
    "class Spam(BaseModel):\n",
    "    foo: Foo\n",
    "    bars: list[Bar]"
   ]
  },
  {
   "cell_type": "code",
   "execution_count": 12,
   "metadata": {},
   "outputs": [
    {
     "data": {
      "text/plain": [
       "Spam(foo=Foo(count=4, size=None), bars=[Bar(apple='x1', banana='y'), Bar(apple='x2', banana='y')])"
      ]
     },
     "execution_count": 12,
     "metadata": {},
     "output_type": "execute_result"
    }
   ],
   "source": [
    "m = Spam(foo={'count': 4}, bars=[{'apple': 'x1'}, {'apple': 'x2'}])\n",
    "m"
   ]
  },
  {
   "cell_type": "code",
   "execution_count": 13,
   "metadata": {},
   "outputs": [
    {
     "data": {
      "text/plain": [
       "{'foo': {'count': 4, 'size': None},\n",
       " 'bars': [{'apple': 'x1', 'banana': 'y'}, {'apple': 'x2', 'banana': 'y'}]}"
      ]
     },
     "execution_count": 13,
     "metadata": {},
     "output_type": "execute_result"
    }
   ],
   "source": [
    "m.dict()"
   ]
  },
  {
   "attachments": {},
   "cell_type": "markdown",
   "metadata": {},
   "source": [
    "## ORM Mode (aka Arbitrary Class Instances)\n",
    "\n",
    "Pydantic models can be created from arbitrary class instances to support models that map to ORM objects.\n",
    "\n",
    "To do this:\n",
    "\n",
    "- The Config property orm_mode must be set to True.\n",
    "- The special constructor from_orm must be used to create the model instance.\n",
    "\n",
    "The example here uses SQLAlchemy, but the same approach should work for any ORM."
   ]
  },
  {
   "cell_type": "code",
   "execution_count": 14,
   "metadata": {},
   "outputs": [],
   "source": [
    "from sqlalchemy import Column, Integer, String\n",
    "from sqlalchemy.dialects.postgresql import ARRAY\n",
    "from sqlalchemy.orm import declarative_base\n",
    "from pydantic import BaseModel, constr\n",
    "\n",
    "Base = declarative_base()"
   ]
  },
  {
   "attachments": {},
   "cell_type": "markdown",
   "metadata": {},
   "source": [
    "### ORM Models"
   ]
  },
  {
   "cell_type": "code",
   "execution_count": 15,
   "metadata": {},
   "outputs": [],
   "source": [
    "class CompanyOrm(Base):\n",
    "    __tablename__ = 'companies'\n",
    "    id = Column(Integer, primary_key=True, nullable=False)\n",
    "    public_key = Column(String(20), index=True, nullable=False, unique=True)\n",
    "    name = Column(String(63), unique=True)\n",
    "    domains = Column(ARRAY(String(255)))"
   ]
  },
  {
   "cell_type": "markdown",
   "metadata": {},
   "source": [
    "### Pydantic models"
   ]
  },
  {
   "cell_type": "code",
   "execution_count": 16,
   "metadata": {},
   "outputs": [],
   "source": [
    "class CompanyModel(BaseModel):\n",
    "    id: int\n",
    "    public_key: constr(max_length=20)\n",
    "    name: constr(max_length=63)\n",
    "    domains: list[constr(max_length=255)]\n",
    "\n",
    "    class Config:\n",
    "        orm_mode = True # Important!"
   ]
  },
  {
   "cell_type": "markdown",
   "metadata": {},
   "source": [
    "### Create a CompanyOrm instance"
   ]
  },
  {
   "cell_type": "code",
   "execution_count": 17,
   "metadata": {},
   "outputs": [
    {
     "name": "stdout",
     "output_type": "stream",
     "text": [
      "<__main__.CompanyOrm object at 0x7fc1ecbfbd30>\n"
     ]
    }
   ],
   "source": [
    "co_orm = CompanyOrm(\n",
    "    id=123,\n",
    "    public_key='foobar',\n",
    "    name='Testing',\n",
    "    domains=['example.com', 'foobar.com'],\n",
    ")\n",
    "print(co_orm)"
   ]
  },
  {
   "attachments": {},
   "cell_type": "markdown",
   "metadata": {},
   "source": [
    "### Create a CompanyModel instance from the CompanyOrm instance"
   ]
  },
  {
   "cell_type": "code",
   "execution_count": 18,
   "metadata": {},
   "outputs": [
    {
     "name": "stdout",
     "output_type": "stream",
     "text": [
      "id=123 public_key='foobar' name='Testing' domains=['example.com', 'foobar.com']\n"
     ]
    }
   ],
   "source": [
    "co_model = CompanyModel.from_orm(co_orm)\n",
    "print(co_model)"
   ]
  },
  {
   "cell_type": "markdown",
   "metadata": {},
   "source": [
    "## Reserved names\n",
    "\n",
    "You may want to name a Column after a reserved SQLAlchemy field. In that case, Field aliases will be convenient:"
   ]
  },
  {
   "cell_type": "code",
   "execution_count": 19,
   "metadata": {},
   "outputs": [],
   "source": [
    "from pydantic import BaseModel, Field\n",
    "import sqlalchemy as sa\n",
    "from sqlalchemy.orm import declarative_base\n",
    "\n",
    "\n",
    "class MyModel(BaseModel):\n",
    "    metadata: dict[str, str] = Field(alias='metadata_') # Use 'metadata_' as the alias\n",
    "\n",
    "    class Config:\n",
    "        orm_mode = True\n",
    "\n",
    "\n",
    "Base = declarative_base()\n",
    "\n",
    "\n",
    "class SQLModel(Base):\n",
    "    __tablename__ = 'my_table'\n",
    "    id = sa.Column('id', sa.Integer, primary_key=True)\n",
    "    # 'metadata' is reserved by SQLAlchemy, hence the '_'\n",
    "    metadata_ = sa.Column('metadata', sa.JSON)"
   ]
  },
  {
   "cell_type": "code",
   "execution_count": 20,
   "metadata": {},
   "outputs": [
    {
     "name": "stdout",
     "output_type": "stream",
     "text": [
      "{'metadata': {'key': 'val'}}\n",
      "{'metadata_': {'key': 'val'}}\n"
     ]
    }
   ],
   "source": [
    "sql_model = SQLModel(metadata_={'key': 'val'}, id=1)\n",
    "\n",
    "pydantic_model = MyModel.from_orm(sql_model) # Note that the alias is used here\n",
    "\n",
    "print(pydantic_model.dict())\n",
    "#> {'metadata': {'key': 'val'}}\n",
    "print(pydantic_model.dict(by_alias=True))\n",
    "#> {'metadata_': {'key': 'val'}}"
   ]
  },
  {
   "attachments": {},
   "cell_type": "markdown",
   "metadata": {},
   "source": [
    "The example above works because aliases have priority over field names for field population. Accessing SQLModel's metadata attribute would lead to a ValidationError."
   ]
  },
  {
   "attachments": {},
   "cell_type": "markdown",
   "metadata": {},
   "source": [
    "## Recursive ORM models\n",
    "\n",
    "ORM instances will be parsed with from_orm recursively as well as at the top level.\n",
    "\n",
    "Here a vanilla class is used to demonstrate the principle, but any ORM class could be used instead."
   ]
  },
  {
   "cell_type": "code",
   "execution_count": 22,
   "metadata": {},
   "outputs": [],
   "source": [
    "from pydantic import BaseModel\n",
    "\n",
    "\n",
    "class PetCls:\n",
    "    def __init__(self, *, name: str, species: str):\n",
    "        self.name = name\n",
    "        self.species = species\n",
    "\n",
    "\n",
    "class PersonCls:\n",
    "    def __init__(self, *, name: str, age: float = None, pets: list[PetCls]):\n",
    "        self.name = name\n",
    "        self.age = age\n",
    "        self.pets = pets\n",
    "\n",
    "\n",
    "class Pet(BaseModel):\n",
    "    name: str\n",
    "    species: str\n",
    "\n",
    "    class Config:\n",
    "        orm_mode = True\n",
    "\n",
    "\n",
    "class Person(BaseModel):\n",
    "    name: str\n",
    "    age: float = None\n",
    "    pets: list[Pet]\n",
    "\n",
    "    class Config:\n",
    "        orm_mode = True"
   ]
  },
  {
   "cell_type": "code",
   "execution_count": 24,
   "metadata": {},
   "outputs": [
    {
     "name": "stdout",
     "output_type": "stream",
     "text": [
      "name='Anna' age=20.0 pets=[Pet(name='Bones', species='dog'), Pet(name='Orion', species='cat')]\n"
     ]
    }
   ],
   "source": [
    "bones = PetCls(name='Bones', species='dog')\n",
    "orion = PetCls(name='Orion', species='cat')\n",
    "anna = PersonCls(name='Anna', age=20, pets=[bones, orion])\n",
    "anna_model = Person.from_orm(anna)\n",
    "print(anna_model)"
   ]
  },
  {
   "attachments": {},
   "cell_type": "markdown",
   "metadata": {},
   "source": [
    "## Data binding\n",
    "\n",
    "Arbitrary classes are processed by pydantic using the GetterDict class (see utils.py), which attempts to provide a dictionary-like interface to any class. You can customise how this works by setting your own sub-class of GetterDict as the value of Config.getter_dict (see config).\n",
    "\n",
    "You can also customise class validation using root_validators with pre=True. In this case your validator function will be passed a GetterDict instance which you may copy and modify.\n",
    "\n",
    "The GetterDict instance will be called for each field with a sentinel as a fallback (if no other default value is set). Returning this sentinel means that the field is missing. Any other value will be interpreted as the value of the field."
   ]
  },
  {
   "cell_type": "code",
   "execution_count": 25,
   "metadata": {},
   "outputs": [],
   "source": [
    "from pydantic import BaseModel\n",
    "from typing import Any\n",
    "from pydantic.utils import GetterDict\n",
    "from xml.etree.ElementTree import fromstring\n",
    "\n",
    "\n",
    "xmlstring = \"\"\"\n",
    "<User Id=\"2138\">\n",
    "    <FirstName />\n",
    "    <LoggedIn Value=\"true\" />\n",
    "</User>\n",
    "\"\"\"\n",
    "\n",
    "\n",
    "class UserGetter(GetterDict):\n",
    "\n",
    "    def get(self, key: str, default: Any) -> Any:\n",
    "\n",
    "        # element attributes\n",
    "        if key in {'Id', 'Status'}:\n",
    "            return self._obj.attrib.get(key, default)\n",
    "\n",
    "        # element children\n",
    "        else:\n",
    "            try:\n",
    "                return self._obj.find(key).attrib['Value']\n",
    "            except (AttributeError, KeyError):\n",
    "                return default\n",
    "\n",
    "\n",
    "class User(BaseModel):\n",
    "    Id: int\n",
    "    Status: str | None\n",
    "    FirstName: str | None\n",
    "    LastName: str | None\n",
    "    LoggedIn: bool\n",
    "\n",
    "    class Config:\n",
    "        orm_mode = True\n",
    "        getter_dict = UserGetter\n",
    "\n",
    "\n",
    "user = User.from_orm(fromstring(xmlstring))"
   ]
  }
 ],
 "metadata": {
  "kernelspec": {
   "display_name": "venv",
   "language": "python",
   "name": "python3"
  },
  "language_info": {
   "codemirror_mode": {
    "name": "ipython",
    "version": 3
   },
   "file_extension": ".py",
   "mimetype": "text/x-python",
   "name": "python",
   "nbconvert_exporter": "python",
   "pygments_lexer": "ipython3",
   "version": "3.10.6"
  },
  "orig_nbformat": 4,
  "vscode": {
   "interpreter": {
    "hash": "37228aaaa32d31f14c5e82dac7c4b2322d9fb1eb8e8cb6e12470bc24c2417452"
   }
  }
 },
 "nbformat": 4,
 "nbformat_minor": 2
}
